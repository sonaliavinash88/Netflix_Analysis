{
 "cells": [
  {
   "cell_type": "markdown",
   "id": "69ab5a51",
   "metadata": {},
   "source": [
    "# 1. Importing data and visualzation libraries"
   ]
  },
  {
   "cell_type": "code",
   "execution_count": 1,
   "id": "2c29f09f",
   "metadata": {},
   "outputs": [],
   "source": [
    "# import libraries\n",
    "import pandas as pd\n",
    "import numpy as np\n",
    "import seaborn as sns\n",
    "import matplotlib.pyplot as plt\n",
    "import matplotlib\n",
    "import os"
   ]
  },
  {
   "cell_type": "code",
   "execution_count": 2,
   "id": "02b871ac",
   "metadata": {},
   "outputs": [],
   "source": [
    "# Including the command for inline plotting\n",
    "%matplotlib inline"
   ]
  },
  {
   "cell_type": "code",
   "execution_count": 3,
   "id": "8d46767c",
   "metadata": {},
   "outputs": [],
   "source": [
    "# define path\n",
    "PATH = 'Data'"
   ]
  },
  {
   "cell_type": "code",
   "execution_count": 4,
   "id": "f5a5c0dd",
   "metadata": {},
   "outputs": [],
   "source": [
    "# import cleaned dataset\n",
    "\n",
    "df= pd.read_csv(os.path.join(PATH, 'Prepared Data', 'Netflix_Data_clean.csv'))"
   ]
  },
  {
   "cell_type": "code",
   "execution_count": 5,
   "id": "06623ef1",
   "metadata": {},
   "outputs": [
    {
     "data": {
      "text/html": [
       "<div>\n",
       "<style scoped>\n",
       "    .dataframe tbody tr th:only-of-type {\n",
       "        vertical-align: middle;\n",
       "    }\n",
       "\n",
       "    .dataframe tbody tr th {\n",
       "        vertical-align: top;\n",
       "    }\n",
       "\n",
       "    .dataframe thead th {\n",
       "        text-align: right;\n",
       "    }\n",
       "</style>\n",
       "<table border=\"1\" class=\"dataframe\">\n",
       "  <thead>\n",
       "    <tr style=\"text-align: right;\">\n",
       "      <th></th>\n",
       "      <th>Unnamed: 0</th>\n",
       "      <th>show_id</th>\n",
       "      <th>type</th>\n",
       "      <th>title</th>\n",
       "      <th>director</th>\n",
       "      <th>cast</th>\n",
       "      <th>country</th>\n",
       "      <th>date_added</th>\n",
       "      <th>release_year</th>\n",
       "      <th>rating</th>\n",
       "      <th>duration</th>\n",
       "      <th>listed_in</th>\n",
       "    </tr>\n",
       "  </thead>\n",
       "  <tbody>\n",
       "    <tr>\n",
       "      <th>0</th>\n",
       "      <td>7</td>\n",
       "      <td>s8</td>\n",
       "      <td>Movie</td>\n",
       "      <td>Sankofa</td>\n",
       "      <td>Haile Gerima</td>\n",
       "      <td>Kofi Ghanaba, Oyafunmike Ogunlano, Alexandra D...</td>\n",
       "      <td>United States, Ghana, Burkina Faso, United Kin...</td>\n",
       "      <td>September 24, 2021</td>\n",
       "      <td>1993</td>\n",
       "      <td>TV-MA</td>\n",
       "      <td>125 min</td>\n",
       "      <td>Dramas, Independent Movies, International Movies</td>\n",
       "    </tr>\n",
       "    <tr>\n",
       "      <th>1</th>\n",
       "      <td>8</td>\n",
       "      <td>s9</td>\n",
       "      <td>TV Show</td>\n",
       "      <td>The Great British Baking Show</td>\n",
       "      <td>Andy Devonshire</td>\n",
       "      <td>Mel Giedroyc, Sue Perkins, Mary Berry, Paul Ho...</td>\n",
       "      <td>United Kingdom</td>\n",
       "      <td>September 24, 2021</td>\n",
       "      <td>2021</td>\n",
       "      <td>TV-14</td>\n",
       "      <td>9 Seasons</td>\n",
       "      <td>British TV Shows, Reality TV</td>\n",
       "    </tr>\n",
       "    <tr>\n",
       "      <th>2</th>\n",
       "      <td>9</td>\n",
       "      <td>s10</td>\n",
       "      <td>Movie</td>\n",
       "      <td>The Starling</td>\n",
       "      <td>Theodore Melfi</td>\n",
       "      <td>Melissa McCarthy, Chris O'Dowd, Kevin Kline, T...</td>\n",
       "      <td>United States</td>\n",
       "      <td>September 24, 2021</td>\n",
       "      <td>2021</td>\n",
       "      <td>PG-13</td>\n",
       "      <td>104 min</td>\n",
       "      <td>Comedies, Dramas</td>\n",
       "    </tr>\n",
       "    <tr>\n",
       "      <th>3</th>\n",
       "      <td>12</td>\n",
       "      <td>s13</td>\n",
       "      <td>Movie</td>\n",
       "      <td>Je Suis Karl</td>\n",
       "      <td>Christian Schwochow</td>\n",
       "      <td>Luna Wedler, Jannis Niewöhner, Milan Peschel, ...</td>\n",
       "      <td>Germany, Czech Republic</td>\n",
       "      <td>September 23, 2021</td>\n",
       "      <td>2021</td>\n",
       "      <td>TV-MA</td>\n",
       "      <td>127 min</td>\n",
       "      <td>Dramas, International Movies</td>\n",
       "    </tr>\n",
       "    <tr>\n",
       "      <th>4</th>\n",
       "      <td>24</td>\n",
       "      <td>s25</td>\n",
       "      <td>Movie</td>\n",
       "      <td>Jeans</td>\n",
       "      <td>S. Shankar</td>\n",
       "      <td>Prashanth, Aishwarya Rai Bachchan, Sri Lakshmi...</td>\n",
       "      <td>India</td>\n",
       "      <td>September 21, 2021</td>\n",
       "      <td>1998</td>\n",
       "      <td>TV-14</td>\n",
       "      <td>166 min</td>\n",
       "      <td>Comedies, International Movies, Romantic Movies</td>\n",
       "    </tr>\n",
       "  </tbody>\n",
       "</table>\n",
       "</div>"
      ],
      "text/plain": [
       "   Unnamed: 0 show_id     type                          title  \\\n",
       "0           7      s8    Movie                        Sankofa   \n",
       "1           8      s9  TV Show  The Great British Baking Show   \n",
       "2           9     s10    Movie                   The Starling   \n",
       "3          12     s13    Movie                   Je Suis Karl   \n",
       "4          24     s25    Movie                          Jeans   \n",
       "\n",
       "              director                                               cast  \\\n",
       "0         Haile Gerima  Kofi Ghanaba, Oyafunmike Ogunlano, Alexandra D...   \n",
       "1      Andy Devonshire  Mel Giedroyc, Sue Perkins, Mary Berry, Paul Ho...   \n",
       "2       Theodore Melfi  Melissa McCarthy, Chris O'Dowd, Kevin Kline, T...   \n",
       "3  Christian Schwochow  Luna Wedler, Jannis Niewöhner, Milan Peschel, ...   \n",
       "4           S. Shankar  Prashanth, Aishwarya Rai Bachchan, Sri Lakshmi...   \n",
       "\n",
       "                                             country          date_added  \\\n",
       "0  United States, Ghana, Burkina Faso, United Kin...  September 24, 2021   \n",
       "1                                     United Kingdom  September 24, 2021   \n",
       "2                                      United States  September 24, 2021   \n",
       "3                            Germany, Czech Republic  September 23, 2021   \n",
       "4                                              India  September 21, 2021   \n",
       "\n",
       "   release_year rating   duration  \\\n",
       "0          1993  TV-MA    125 min   \n",
       "1          2021  TV-14  9 Seasons   \n",
       "2          2021  PG-13    104 min   \n",
       "3          2021  TV-MA    127 min   \n",
       "4          1998  TV-14    166 min   \n",
       "\n",
       "                                          listed_in  \n",
       "0  Dramas, Independent Movies, International Movies  \n",
       "1                      British TV Shows, Reality TV  \n",
       "2                                  Comedies, Dramas  \n",
       "3                      Dramas, International Movies  \n",
       "4   Comedies, International Movies, Romantic Movies  "
      ]
     },
     "execution_count": 5,
     "metadata": {},
     "output_type": "execute_result"
    }
   ],
   "source": [
    "df.head(5)"
   ]
  },
  {
   "cell_type": "code",
   "execution_count": 6,
   "id": "df34cdc0",
   "metadata": {},
   "outputs": [
    {
     "data": {
      "text/plain": [
       "(5336, 12)"
      ]
     },
     "execution_count": 6,
     "metadata": {},
     "output_type": "execute_result"
    }
   ],
   "source": [
    "df.shape"
   ]
  },
  {
   "cell_type": "code",
   "execution_count": 7,
   "id": "2a0f4f14",
   "metadata": {},
   "outputs": [
    {
     "data": {
      "text/plain": [
       "Index(['Unnamed: 0', 'show_id', 'type', 'title', 'director', 'cast', 'country',\n",
       "       'date_added', 'release_year', 'rating', 'duration', 'listed_in'],\n",
       "      dtype='object')"
      ]
     },
     "execution_count": 7,
     "metadata": {},
     "output_type": "execute_result"
    }
   ],
   "source": [
    "df.columns"
   ]
  },
  {
   "cell_type": "markdown",
   "id": "b86feb41",
   "metadata": {},
   "source": [
    "# 2. Removing unnecessary variables"
   ]
  },
  {
   "cell_type": "code",
   "execution_count": 8,
   "id": "726cc522",
   "metadata": {},
   "outputs": [],
   "source": [
    "# craete a subset\n",
    "df_netflix= df[['title', 'director', 'cast', 'country',\n",
    "        'release_year', 'rating', 'duration', 'listed_in']]"
   ]
  },
  {
   "cell_type": "code",
   "execution_count": 9,
   "id": "f7310a8f",
   "metadata": {},
   "outputs": [
    {
     "data": {
      "text/html": [
       "<div>\n",
       "<style scoped>\n",
       "    .dataframe tbody tr th:only-of-type {\n",
       "        vertical-align: middle;\n",
       "    }\n",
       "\n",
       "    .dataframe tbody tr th {\n",
       "        vertical-align: top;\n",
       "    }\n",
       "\n",
       "    .dataframe thead th {\n",
       "        text-align: right;\n",
       "    }\n",
       "</style>\n",
       "<table border=\"1\" class=\"dataframe\">\n",
       "  <thead>\n",
       "    <tr style=\"text-align: right;\">\n",
       "      <th></th>\n",
       "      <th>title</th>\n",
       "      <th>director</th>\n",
       "      <th>cast</th>\n",
       "      <th>country</th>\n",
       "      <th>release_year</th>\n",
       "      <th>rating</th>\n",
       "      <th>duration</th>\n",
       "      <th>listed_in</th>\n",
       "    </tr>\n",
       "  </thead>\n",
       "  <tbody>\n",
       "    <tr>\n",
       "      <th>0</th>\n",
       "      <td>Sankofa</td>\n",
       "      <td>Haile Gerima</td>\n",
       "      <td>Kofi Ghanaba, Oyafunmike Ogunlano, Alexandra D...</td>\n",
       "      <td>United States, Ghana, Burkina Faso, United Kin...</td>\n",
       "      <td>1993</td>\n",
       "      <td>TV-MA</td>\n",
       "      <td>125 min</td>\n",
       "      <td>Dramas, Independent Movies, International Movies</td>\n",
       "    </tr>\n",
       "    <tr>\n",
       "      <th>1</th>\n",
       "      <td>The Great British Baking Show</td>\n",
       "      <td>Andy Devonshire</td>\n",
       "      <td>Mel Giedroyc, Sue Perkins, Mary Berry, Paul Ho...</td>\n",
       "      <td>United Kingdom</td>\n",
       "      <td>2021</td>\n",
       "      <td>TV-14</td>\n",
       "      <td>9 Seasons</td>\n",
       "      <td>British TV Shows, Reality TV</td>\n",
       "    </tr>\n",
       "    <tr>\n",
       "      <th>2</th>\n",
       "      <td>The Starling</td>\n",
       "      <td>Theodore Melfi</td>\n",
       "      <td>Melissa McCarthy, Chris O'Dowd, Kevin Kline, T...</td>\n",
       "      <td>United States</td>\n",
       "      <td>2021</td>\n",
       "      <td>PG-13</td>\n",
       "      <td>104 min</td>\n",
       "      <td>Comedies, Dramas</td>\n",
       "    </tr>\n",
       "    <tr>\n",
       "      <th>3</th>\n",
       "      <td>Je Suis Karl</td>\n",
       "      <td>Christian Schwochow</td>\n",
       "      <td>Luna Wedler, Jannis Niewöhner, Milan Peschel, ...</td>\n",
       "      <td>Germany, Czech Republic</td>\n",
       "      <td>2021</td>\n",
       "      <td>TV-MA</td>\n",
       "      <td>127 min</td>\n",
       "      <td>Dramas, International Movies</td>\n",
       "    </tr>\n",
       "    <tr>\n",
       "      <th>4</th>\n",
       "      <td>Jeans</td>\n",
       "      <td>S. Shankar</td>\n",
       "      <td>Prashanth, Aishwarya Rai Bachchan, Sri Lakshmi...</td>\n",
       "      <td>India</td>\n",
       "      <td>1998</td>\n",
       "      <td>TV-14</td>\n",
       "      <td>166 min</td>\n",
       "      <td>Comedies, International Movies, Romantic Movies</td>\n",
       "    </tr>\n",
       "  </tbody>\n",
       "</table>\n",
       "</div>"
      ],
      "text/plain": [
       "                           title             director  \\\n",
       "0                        Sankofa         Haile Gerima   \n",
       "1  The Great British Baking Show      Andy Devonshire   \n",
       "2                   The Starling       Theodore Melfi   \n",
       "3                   Je Suis Karl  Christian Schwochow   \n",
       "4                          Jeans           S. Shankar   \n",
       "\n",
       "                                                cast  \\\n",
       "0  Kofi Ghanaba, Oyafunmike Ogunlano, Alexandra D...   \n",
       "1  Mel Giedroyc, Sue Perkins, Mary Berry, Paul Ho...   \n",
       "2  Melissa McCarthy, Chris O'Dowd, Kevin Kline, T...   \n",
       "3  Luna Wedler, Jannis Niewöhner, Milan Peschel, ...   \n",
       "4  Prashanth, Aishwarya Rai Bachchan, Sri Lakshmi...   \n",
       "\n",
       "                                             country  release_year rating  \\\n",
       "0  United States, Ghana, Burkina Faso, United Kin...          1993  TV-MA   \n",
       "1                                     United Kingdom          2021  TV-14   \n",
       "2                                      United States          2021  PG-13   \n",
       "3                            Germany, Czech Republic          2021  TV-MA   \n",
       "4                                              India          1998  TV-14   \n",
       "\n",
       "    duration                                         listed_in  \n",
       "0    125 min  Dramas, Independent Movies, International Movies  \n",
       "1  9 Seasons                      British TV Shows, Reality TV  \n",
       "2    104 min                                  Comedies, Dramas  \n",
       "3    127 min                      Dramas, International Movies  \n",
       "4    166 min   Comedies, International Movies, Romantic Movies  "
      ]
     },
     "execution_count": 9,
     "metadata": {},
     "output_type": "execute_result"
    }
   ],
   "source": [
    "df_netflix.head()"
   ]
  },
  {
   "cell_type": "markdown",
   "id": "5f6d7a19",
   "metadata": {},
   "source": [
    "# 3. Create a correlation matrix heatmap (colored)"
   ]
  },
  {
   "cell_type": "code",
   "execution_count": 10,
   "id": "aa6da022",
   "metadata": {},
   "outputs": [],
   "source": [
    "from sklearn.preprocessing import LabelEncoder # Use the LabelEncoder class \n",
    "#from the sklearn.preprocessing module to encode categorical variables into numerical values.\n",
    "\n",
    "label_encoder = LabelEncoder()# encode the 'type' variable (movies vs. TV shows)\n",
    "#where 'movie' is represented as 0 and 'TV show' as 1\n",
    "df['Type_encoded'] = label_encoder.fit_transform(df['type'])"
   ]
  },
  {
   "cell_type": "code",
   "execution_count": 11,
   "id": "5bf89d10",
   "metadata": {},
   "outputs": [],
   "source": [
    "label_encoder = LabelEncoder()\n",
    "df['Country_encoded'] = label_encoder.fit_transform(df['country'])"
   ]
  },
  {
   "cell_type": "code",
   "execution_count": 12,
   "id": "c56fa445",
   "metadata": {},
   "outputs": [],
   "source": [
    "country_frequencies = df['country'].value_counts()# Count the number of titles available for each country."
   ]
  },
  {
   "cell_type": "code",
   "execution_count": 13,
   "id": "2361d1a3",
   "metadata": {},
   "outputs": [],
   "source": [
    "correlation_matrix = df[['Type_encoded', 'Country_encoded']].corr()"
   ]
  },
  {
   "cell_type": "code",
   "execution_count": 14,
   "id": "acebd54e",
   "metadata": {},
   "outputs": [
    {
     "data": {
      "text/html": [
       "<div>\n",
       "<style scoped>\n",
       "    .dataframe tbody tr th:only-of-type {\n",
       "        vertical-align: middle;\n",
       "    }\n",
       "\n",
       "    .dataframe tbody tr th {\n",
       "        vertical-align: top;\n",
       "    }\n",
       "\n",
       "    .dataframe thead th {\n",
       "        text-align: right;\n",
       "    }\n",
       "</style>\n",
       "<table border=\"1\" class=\"dataframe\">\n",
       "  <thead>\n",
       "    <tr style=\"text-align: right;\">\n",
       "      <th></th>\n",
       "      <th>Type_encoded</th>\n",
       "      <th>Country_encoded</th>\n",
       "    </tr>\n",
       "  </thead>\n",
       "  <tbody>\n",
       "    <tr>\n",
       "      <th>Type_encoded</th>\n",
       "      <td>1.000000</td>\n",
       "      <td>-0.008713</td>\n",
       "    </tr>\n",
       "    <tr>\n",
       "      <th>Country_encoded</th>\n",
       "      <td>-0.008713</td>\n",
       "      <td>1.000000</td>\n",
       "    </tr>\n",
       "  </tbody>\n",
       "</table>\n",
       "</div>"
      ],
      "text/plain": [
       "                 Type_encoded  Country_encoded\n",
       "Type_encoded         1.000000        -0.008713\n",
       "Country_encoded     -0.008713         1.000000"
      ]
     },
     "execution_count": 14,
     "metadata": {},
     "output_type": "execute_result"
    }
   ],
   "source": [
    "correlation_matrix"
   ]
  },
  {
   "cell_type": "code",
   "execution_count": 15,
   "id": "9e94d483",
   "metadata": {},
   "outputs": [
    {
     "data": {
      "text/html": [
       "<div>\n",
       "<style scoped>\n",
       "    .dataframe tbody tr th:only-of-type {\n",
       "        vertical-align: middle;\n",
       "    }\n",
       "\n",
       "    .dataframe tbody tr th {\n",
       "        vertical-align: top;\n",
       "    }\n",
       "\n",
       "    .dataframe thead th {\n",
       "        text-align: right;\n",
       "    }\n",
       "</style>\n",
       "<table border=\"1\" class=\"dataframe\">\n",
       "  <thead>\n",
       "    <tr style=\"text-align: right;\">\n",
       "      <th></th>\n",
       "      <th>Unnamed: 0</th>\n",
       "      <th>show_id</th>\n",
       "      <th>type</th>\n",
       "      <th>title</th>\n",
       "      <th>director</th>\n",
       "      <th>cast</th>\n",
       "      <th>country</th>\n",
       "      <th>date_added</th>\n",
       "      <th>release_year</th>\n",
       "      <th>rating</th>\n",
       "      <th>duration</th>\n",
       "      <th>listed_in</th>\n",
       "      <th>Type_encoded</th>\n",
       "      <th>Country_encoded</th>\n",
       "    </tr>\n",
       "  </thead>\n",
       "  <tbody>\n",
       "    <tr>\n",
       "      <th>0</th>\n",
       "      <td>7</td>\n",
       "      <td>s8</td>\n",
       "      <td>Movie</td>\n",
       "      <td>Sankofa</td>\n",
       "      <td>Haile Gerima</td>\n",
       "      <td>Kofi Ghanaba, Oyafunmike Ogunlano, Alexandra D...</td>\n",
       "      <td>United States, Ghana, Burkina Faso, United Kin...</td>\n",
       "      <td>September 24, 2021</td>\n",
       "      <td>1993</td>\n",
       "      <td>TV-MA</td>\n",
       "      <td>125 min</td>\n",
       "      <td>Dramas, Independent Movies, International Movies</td>\n",
       "      <td>0</td>\n",
       "      <td>536</td>\n",
       "    </tr>\n",
       "    <tr>\n",
       "      <th>1</th>\n",
       "      <td>8</td>\n",
       "      <td>s9</td>\n",
       "      <td>TV Show</td>\n",
       "      <td>The Great British Baking Show</td>\n",
       "      <td>Andy Devonshire</td>\n",
       "      <td>Mel Giedroyc, Sue Perkins, Mary Berry, Paul Ho...</td>\n",
       "      <td>United Kingdom</td>\n",
       "      <td>September 24, 2021</td>\n",
       "      <td>2021</td>\n",
       "      <td>TV-14</td>\n",
       "      <td>9 Seasons</td>\n",
       "      <td>British TV Shows, Reality TV</td>\n",
       "      <td>1</td>\n",
       "      <td>409</td>\n",
       "    </tr>\n",
       "    <tr>\n",
       "      <th>2</th>\n",
       "      <td>9</td>\n",
       "      <td>s10</td>\n",
       "      <td>Movie</td>\n",
       "      <td>The Starling</td>\n",
       "      <td>Theodore Melfi</td>\n",
       "      <td>Melissa McCarthy, Chris O'Dowd, Kevin Kline, T...</td>\n",
       "      <td>United States</td>\n",
       "      <td>September 24, 2021</td>\n",
       "      <td>2021</td>\n",
       "      <td>PG-13</td>\n",
       "      <td>104 min</td>\n",
       "      <td>Comedies, Dramas</td>\n",
       "      <td>0</td>\n",
       "      <td>490</td>\n",
       "    </tr>\n",
       "    <tr>\n",
       "      <th>3</th>\n",
       "      <td>12</td>\n",
       "      <td>s13</td>\n",
       "      <td>Movie</td>\n",
       "      <td>Je Suis Karl</td>\n",
       "      <td>Christian Schwochow</td>\n",
       "      <td>Luna Wedler, Jannis Niewöhner, Milan Peschel, ...</td>\n",
       "      <td>Germany, Czech Republic</td>\n",
       "      <td>September 23, 2021</td>\n",
       "      <td>2021</td>\n",
       "      <td>TV-MA</td>\n",
       "      <td>127 min</td>\n",
       "      <td>Dramas, International Movies</td>\n",
       "      <td>0</td>\n",
       "      <td>167</td>\n",
       "    </tr>\n",
       "    <tr>\n",
       "      <th>4</th>\n",
       "      <td>24</td>\n",
       "      <td>s25</td>\n",
       "      <td>Movie</td>\n",
       "      <td>Jeans</td>\n",
       "      <td>S. Shankar</td>\n",
       "      <td>Prashanth, Aishwarya Rai Bachchan, Sri Lakshmi...</td>\n",
       "      <td>India</td>\n",
       "      <td>September 21, 2021</td>\n",
       "      <td>1998</td>\n",
       "      <td>TV-14</td>\n",
       "      <td>166 min</td>\n",
       "      <td>Comedies, International Movies, Romantic Movies</td>\n",
       "      <td>0</td>\n",
       "      <td>195</td>\n",
       "    </tr>\n",
       "  </tbody>\n",
       "</table>\n",
       "</div>"
      ],
      "text/plain": [
       "   Unnamed: 0 show_id     type                          title  \\\n",
       "0           7      s8    Movie                        Sankofa   \n",
       "1           8      s9  TV Show  The Great British Baking Show   \n",
       "2           9     s10    Movie                   The Starling   \n",
       "3          12     s13    Movie                   Je Suis Karl   \n",
       "4          24     s25    Movie                          Jeans   \n",
       "\n",
       "              director                                               cast  \\\n",
       "0         Haile Gerima  Kofi Ghanaba, Oyafunmike Ogunlano, Alexandra D...   \n",
       "1      Andy Devonshire  Mel Giedroyc, Sue Perkins, Mary Berry, Paul Ho...   \n",
       "2       Theodore Melfi  Melissa McCarthy, Chris O'Dowd, Kevin Kline, T...   \n",
       "3  Christian Schwochow  Luna Wedler, Jannis Niewöhner, Milan Peschel, ...   \n",
       "4           S. Shankar  Prashanth, Aishwarya Rai Bachchan, Sri Lakshmi...   \n",
       "\n",
       "                                             country          date_added  \\\n",
       "0  United States, Ghana, Burkina Faso, United Kin...  September 24, 2021   \n",
       "1                                     United Kingdom  September 24, 2021   \n",
       "2                                      United States  September 24, 2021   \n",
       "3                            Germany, Czech Republic  September 23, 2021   \n",
       "4                                              India  September 21, 2021   \n",
       "\n",
       "   release_year rating   duration  \\\n",
       "0          1993  TV-MA    125 min   \n",
       "1          2021  TV-14  9 Seasons   \n",
       "2          2021  PG-13    104 min   \n",
       "3          2021  TV-MA    127 min   \n",
       "4          1998  TV-14    166 min   \n",
       "\n",
       "                                          listed_in  Type_encoded  \\\n",
       "0  Dramas, Independent Movies, International Movies             0   \n",
       "1                      British TV Shows, Reality TV             1   \n",
       "2                                  Comedies, Dramas             0   \n",
       "3                      Dramas, International Movies             0   \n",
       "4   Comedies, International Movies, Romantic Movies             0   \n",
       "\n",
       "   Country_encoded  \n",
       "0              536  \n",
       "1              409  \n",
       "2              490  \n",
       "3              167  \n",
       "4              195  "
      ]
     },
     "execution_count": 15,
     "metadata": {},
     "output_type": "execute_result"
    }
   ],
   "source": [
    "df.head(5)\n"
   ]
  },
  {
   "cell_type": "code",
   "execution_count": 16,
   "id": "cfa43f8e",
   "metadata": {},
   "outputs": [],
   "source": [
    "# create a subset\n",
    "df_sub= df[['Type_encoded', 'Country_encoded']]"
   ]
  },
  {
   "cell_type": "code",
   "execution_count": 17,
   "id": "9ac4ea71",
   "metadata": {},
   "outputs": [
    {
     "data": {
      "text/html": [
       "<div>\n",
       "<style scoped>\n",
       "    .dataframe tbody tr th:only-of-type {\n",
       "        vertical-align: middle;\n",
       "    }\n",
       "\n",
       "    .dataframe tbody tr th {\n",
       "        vertical-align: top;\n",
       "    }\n",
       "\n",
       "    .dataframe thead th {\n",
       "        text-align: right;\n",
       "    }\n",
       "</style>\n",
       "<table border=\"1\" class=\"dataframe\">\n",
       "  <thead>\n",
       "    <tr style=\"text-align: right;\">\n",
       "      <th></th>\n",
       "      <th>Type_encoded</th>\n",
       "      <th>Country_encoded</th>\n",
       "    </tr>\n",
       "  </thead>\n",
       "  <tbody>\n",
       "    <tr>\n",
       "      <th>0</th>\n",
       "      <td>0</td>\n",
       "      <td>536</td>\n",
       "    </tr>\n",
       "    <tr>\n",
       "      <th>1</th>\n",
       "      <td>1</td>\n",
       "      <td>409</td>\n",
       "    </tr>\n",
       "    <tr>\n",
       "      <th>2</th>\n",
       "      <td>0</td>\n",
       "      <td>490</td>\n",
       "    </tr>\n",
       "    <tr>\n",
       "      <th>3</th>\n",
       "      <td>0</td>\n",
       "      <td>167</td>\n",
       "    </tr>\n",
       "    <tr>\n",
       "      <th>4</th>\n",
       "      <td>0</td>\n",
       "      <td>195</td>\n",
       "    </tr>\n",
       "    <tr>\n",
       "      <th>...</th>\n",
       "      <td>...</td>\n",
       "      <td>...</td>\n",
       "    </tr>\n",
       "    <tr>\n",
       "      <th>5331</th>\n",
       "      <td>0</td>\n",
       "      <td>403</td>\n",
       "    </tr>\n",
       "    <tr>\n",
       "      <th>5332</th>\n",
       "      <td>0</td>\n",
       "      <td>490</td>\n",
       "    </tr>\n",
       "    <tr>\n",
       "      <th>5333</th>\n",
       "      <td>0</td>\n",
       "      <td>490</td>\n",
       "    </tr>\n",
       "    <tr>\n",
       "      <th>5334</th>\n",
       "      <td>0</td>\n",
       "      <td>490</td>\n",
       "    </tr>\n",
       "    <tr>\n",
       "      <th>5335</th>\n",
       "      <td>0</td>\n",
       "      <td>195</td>\n",
       "    </tr>\n",
       "  </tbody>\n",
       "</table>\n",
       "<p>5336 rows × 2 columns</p>\n",
       "</div>"
      ],
      "text/plain": [
       "      Type_encoded  Country_encoded\n",
       "0                0              536\n",
       "1                1              409\n",
       "2                0              490\n",
       "3                0              167\n",
       "4                0              195\n",
       "...            ...              ...\n",
       "5331             0              403\n",
       "5332             0              490\n",
       "5333             0              490\n",
       "5334             0              490\n",
       "5335             0              195\n",
       "\n",
       "[5336 rows x 2 columns]"
      ]
     },
     "execution_count": 17,
     "metadata": {},
     "output_type": "execute_result"
    }
   ],
   "source": [
    "df_sub\n"
   ]
  },
  {
   "cell_type": "code",
   "execution_count": 18,
   "id": "368b1611",
   "metadata": {},
   "outputs": [
    {
     "data": {
      "image/png": "[encoded data removed]",
      "text/plain": [
       "<Figure size 480x480 with 1 Axes>"
      ]
     },
     "metadata": {},
     "output_type": "display_data"
    }
   ],
   "source": [
    "plt.matshow(df_sub.corr())\n",
    "plt.show()"
   ]
  },
  {
   "cell_type": "code",
   "execution_count": null,
   "id": "f98695b3",
   "metadata": {},
   "outputs": [],
   "source": []
  },
  {
   "cell_type": "code",
   "execution_count": 19,
   "id": "932db259",
   "metadata": {},
   "outputs": [
    {
     "data": {
      "text/plain": [
       "Text(0.5, 1.0, 'Correlation Matrix')"
      ]
     },
     "execution_count": 19,
     "metadata": {},
     "output_type": "execute_result"
    },
    {
     "data": {
      "image/png": "[encoded data removed]",
      "text/plain": [
       "<Figure size 800x800 with 2 Axes>"
      ]
     },
     "metadata": {},
     "output_type": "display_data"
    }
   ],
   "source": [
    "# Add labels, a legend, and change the size of the heatmap\n",
    "\n",
    "f = plt.figure(figsize=(8, 8)) # figure size \n",
    "plt.matshow(df_sub.corr(), fignum=f.number) # type of plot\n",
    "plt.xticks(range(df_sub.shape[1]), df_sub.columns, fontsize=14, rotation=45) # x axis labels\n",
    "plt.yticks(range(df_sub.shape[1]), df_sub.columns, fontsize=14) # y axis labels\n",
    "cb = plt.colorbar() # add a colour legend (called colorbar)\n",
    "cb.ax.tick_params(labelsize=14) # add font size\n",
    "plt.title('Correlation Matrix', fontsize=14) # add title"
   ]
  },
  {
   "cell_type": "code",
   "execution_count": null,
   "id": "2c266ccc",
   "metadata": {},
   "outputs": [],
   "source": []
  },
  {
   "cell_type": "code",
   "execution_count": 20,
   "id": "34d55e26",
   "metadata": {},
   "outputs": [],
   "source": [
    "# What is the average duration of titles available on Netflix?"
   ]
  },
  {
   "cell_type": "code",
   "execution_count": 43,
   "id": "b7f7f628",
   "metadata": {},
   "outputs": [],
   "source": [
    "df['duration'] = df['duration'].astype(str).str.replace(' min', '').astype(float)"
   ]
  },
  {
   "cell_type": "code",
   "execution_count": 44,
   "id": "9fb5c220",
   "metadata": {},
   "outputs": [
    {
     "ename": "AttributeError",
     "evalue": "Can only use .str accessor with string values!",
     "output_type": "error",
     "traceback": [
      "\u001b[0;31m---------------------------------------------------------------------------\u001b[0m",
      "\u001b[0;31mAttributeError\u001b[0m                            Traceback (most recent call last)",
      "Cell \u001b[0;32mIn[44], line 2\u001b[0m\n\u001b[1;32m      1\u001b[0m \u001b[38;5;66;03m# Remove 'min' suffix and convert to float\u001b[39;00m\n\u001b[0;32m----> 2\u001b[0m df[\u001b[38;5;124m'\u001b[39m\u001b[38;5;124mduration\u001b[39m\u001b[38;5;124m'\u001b[39m] \u001b[38;5;241m=\u001b[39m df[\u001b[38;5;124m'\u001b[39m\u001b[38;5;124mduration\u001b[39m\u001b[38;5;124m'\u001b[39m]\u001b[38;5;241m.\u001b[39mstr\u001b[38;5;241m.\u001b[39mreplace(\u001b[38;5;124m'\u001b[39m\u001b[38;5;124m min\u001b[39m\u001b[38;5;124m'\u001b[39m, \u001b[38;5;124m'\u001b[39m\u001b[38;5;124m'\u001b[39m)\u001b[38;5;241m.\u001b[39mastype(\u001b[38;5;28mfloat\u001b[39m)\n",
      "File \u001b[0;32m~/anaconda3/lib/python3.11/site-packages/pandas/core/generic.py:5989\u001b[0m, in \u001b[0;36mNDFrame.__getattr__\u001b[0;34m(self, name)\u001b[0m\n\u001b[1;32m   5982\u001b[0m \u001b[38;5;28;01mif\u001b[39;00m (\n\u001b[1;32m   5983\u001b[0m     name \u001b[38;5;129;01mnot\u001b[39;00m \u001b[38;5;129;01min\u001b[39;00m \u001b[38;5;28mself\u001b[39m\u001b[38;5;241m.\u001b[39m_internal_names_set\n\u001b[1;32m   5984\u001b[0m     \u001b[38;5;129;01mand\u001b[39;00m name \u001b[38;5;129;01mnot\u001b[39;00m \u001b[38;5;129;01min\u001b[39;00m \u001b[38;5;28mself\u001b[39m\u001b[38;5;241m.\u001b[39m_metadata\n\u001b[1;32m   5985\u001b[0m     \u001b[38;5;129;01mand\u001b[39;00m name \u001b[38;5;129;01mnot\u001b[39;00m \u001b[38;5;129;01min\u001b[39;00m \u001b[38;5;28mself\u001b[39m\u001b[38;5;241m.\u001b[39m_accessors\n\u001b[1;32m   5986\u001b[0m     \u001b[38;5;129;01mand\u001b[39;00m \u001b[38;5;28mself\u001b[39m\u001b[38;5;241m.\u001b[39m_info_axis\u001b[38;5;241m.\u001b[39m_can_hold_identifiers_and_holds_name(name)\n\u001b[1;32m   5987\u001b[0m ):\n\u001b[1;32m   5988\u001b[0m     \u001b[38;5;28;01mreturn\u001b[39;00m \u001b[38;5;28mself\u001b[39m[name]\n\u001b[0;32m-> 5989\u001b[0m \u001b[38;5;28;01mreturn\u001b[39;00m \u001b[38;5;28mobject\u001b[39m\u001b[38;5;241m.\u001b[39m\u001b[38;5;21m__getattribute__\u001b[39m(\u001b[38;5;28mself\u001b[39m, name)\n",
      "File \u001b[0;32m~/anaconda3/lib/python3.11/site-packages/pandas/core/accessor.py:224\u001b[0m, in \u001b[0;36mCachedAccessor.__get__\u001b[0;34m(self, obj, cls)\u001b[0m\n\u001b[1;32m    221\u001b[0m \u001b[38;5;28;01mif\u001b[39;00m obj \u001b[38;5;129;01mis\u001b[39;00m \u001b[38;5;28;01mNone\u001b[39;00m:\n\u001b[1;32m    222\u001b[0m     \u001b[38;5;66;03m# we're accessing the attribute of the class, i.e., Dataset.geo\u001b[39;00m\n\u001b[1;32m    223\u001b[0m     \u001b[38;5;28;01mreturn\u001b[39;00m \u001b[38;5;28mself\u001b[39m\u001b[38;5;241m.\u001b[39m_accessor\n\u001b[0;32m--> 224\u001b[0m accessor_obj \u001b[38;5;241m=\u001b[39m \u001b[38;5;28mself\u001b[39m\u001b[38;5;241m.\u001b[39m_accessor(obj)\n\u001b[1;32m    225\u001b[0m \u001b[38;5;66;03m# Replace the property with the accessor object. Inspired by:\u001b[39;00m\n\u001b[1;32m    226\u001b[0m \u001b[38;5;66;03m# https://www.pydanny.com/cached-property.html\u001b[39;00m\n\u001b[1;32m    227\u001b[0m \u001b[38;5;66;03m# We need to use object.__setattr__ because we overwrite __setattr__ on\u001b[39;00m\n\u001b[1;32m    228\u001b[0m \u001b[38;5;66;03m# NDFrame\u001b[39;00m\n\u001b[1;32m    229\u001b[0m \u001b[38;5;28mobject\u001b[39m\u001b[38;5;241m.\u001b[39m\u001b[38;5;21m__setattr__\u001b[39m(obj, \u001b[38;5;28mself\u001b[39m\u001b[38;5;241m.\u001b[39m_name, accessor_obj)\n",
      "File \u001b[0;32m~/anaconda3/lib/python3.11/site-packages/pandas/core/strings/accessor.py:181\u001b[0m, in \u001b[0;36mStringMethods.__init__\u001b[0;34m(self, data)\u001b[0m\n\u001b[1;32m    178\u001b[0m \u001b[38;5;28;01mdef\u001b[39;00m \u001b[38;5;21m__init__\u001b[39m(\u001b[38;5;28mself\u001b[39m, data) \u001b[38;5;241m-\u001b[39m\u001b[38;5;241m>\u001b[39m \u001b[38;5;28;01mNone\u001b[39;00m:\n\u001b[1;32m    179\u001b[0m     \u001b[38;5;28;01mfrom\u001b[39;00m \u001b[38;5;21;01mpandas\u001b[39;00m\u001b[38;5;21;01m.\u001b[39;00m\u001b[38;5;21;01mcore\u001b[39;00m\u001b[38;5;21;01m.\u001b[39;00m\u001b[38;5;21;01marrays\u001b[39;00m\u001b[38;5;21;01m.\u001b[39;00m\u001b[38;5;21;01mstring_\u001b[39;00m \u001b[38;5;28;01mimport\u001b[39;00m StringDtype\n\u001b[0;32m--> 181\u001b[0m     \u001b[38;5;28mself\u001b[39m\u001b[38;5;241m.\u001b[39m_inferred_dtype \u001b[38;5;241m=\u001b[39m \u001b[38;5;28mself\u001b[39m\u001b[38;5;241m.\u001b[39m_validate(data)\n\u001b[1;32m    182\u001b[0m     \u001b[38;5;28mself\u001b[39m\u001b[38;5;241m.\u001b[39m_is_categorical \u001b[38;5;241m=\u001b[39m is_categorical_dtype(data\u001b[38;5;241m.\u001b[39mdtype)\n\u001b[1;32m    183\u001b[0m     \u001b[38;5;28mself\u001b[39m\u001b[38;5;241m.\u001b[39m_is_string \u001b[38;5;241m=\u001b[39m \u001b[38;5;28misinstance\u001b[39m(data\u001b[38;5;241m.\u001b[39mdtype, StringDtype)\n",
      "File \u001b[0;32m~/anaconda3/lib/python3.11/site-packages/pandas/core/strings/accessor.py:235\u001b[0m, in \u001b[0;36mStringMethods._validate\u001b[0;34m(data)\u001b[0m\n\u001b[1;32m    232\u001b[0m inferred_dtype \u001b[38;5;241m=\u001b[39m lib\u001b[38;5;241m.\u001b[39minfer_dtype(values, skipna\u001b[38;5;241m=\u001b[39m\u001b[38;5;28;01mTrue\u001b[39;00m)\n\u001b[1;32m    234\u001b[0m \u001b[38;5;28;01mif\u001b[39;00m inferred_dtype \u001b[38;5;129;01mnot\u001b[39;00m \u001b[38;5;129;01min\u001b[39;00m allowed_types:\n\u001b[0;32m--> 235\u001b[0m     \u001b[38;5;28;01mraise\u001b[39;00m \u001b[38;5;167;01mAttributeError\u001b[39;00m(\u001b[38;5;124m\"\u001b[39m\u001b[38;5;124mCan only use .str accessor with string values!\u001b[39m\u001b[38;5;124m\"\u001b[39m)\n\u001b[1;32m    236\u001b[0m \u001b[38;5;28;01mreturn\u001b[39;00m inferred_dtype\n",
      "\u001b[0;31mAttributeError\u001b[0m: Can only use .str accessor with string values!"
     ]
    }
   ],
   "source": [
    "# Remove 'min' suffix and convert to float\n",
    "df['duration'] = df['duration'].str.replace(' min', '').astype(float)"
   ]
  },
  {
   "cell_type": "code",
   "execution_count": 45,
   "id": "0bb4d4a7",
   "metadata": {},
   "outputs": [
    {
     "ename": "ValueError",
     "evalue": "could not convert string to float: 'Sankofa'",
     "output_type": "error",
     "traceback": [
      "\u001b[0;31m---------------------------------------------------------------------------\u001b[0m",
      "\u001b[0;31mValueError\u001b[0m                                Traceback (most recent call last)",
      "Cell \u001b[0;32mIn[45], line 3\u001b[0m\n\u001b[1;32m      1\u001b[0m \u001b[38;5;66;03m# Create a scatterplot for the \"duration\" and \"title\" columns in seaborn\u001b[39;00m\n\u001b[0;32m----> 3\u001b[0m sns\u001b[38;5;241m.\u001b[39mlmplot(x \u001b[38;5;241m=\u001b[39m \u001b[38;5;124m'\u001b[39m\u001b[38;5;124mduration\u001b[39m\u001b[38;5;124m'\u001b[39m, y \u001b[38;5;241m=\u001b[39m \u001b[38;5;124m'\u001b[39m\u001b[38;5;124mtitle\u001b[39m\u001b[38;5;124m'\u001b[39m, data \u001b[38;5;241m=\u001b[39m df)\n",
      "File \u001b[0;32m~/anaconda3/lib/python3.11/site-packages/seaborn/regression.py:624\u001b[0m, in \u001b[0;36mlmplot\u001b[0;34m(data, x, y, hue, col, row, palette, col_wrap, height, aspect, markers, sharex, sharey, hue_order, col_order, row_order, legend, legend_out, x_estimator, x_bins, x_ci, scatter, fit_reg, ci, n_boot, units, seed, order, logistic, lowess, robust, logx, x_partial, y_partial, truncate, x_jitter, y_jitter, scatter_kws, line_kws, facet_kws)\u001b[0m\n\u001b[1;32m    621\u001b[0m     ax\u001b[38;5;241m.\u001b[39mupdate_datalim(xys, updatey\u001b[38;5;241m=\u001b[39m\u001b[38;5;28;01mFalse\u001b[39;00m)\n\u001b[1;32m    622\u001b[0m     ax\u001b[38;5;241m.\u001b[39mautoscale_view(scaley\u001b[38;5;241m=\u001b[39m\u001b[38;5;28;01mFalse\u001b[39;00m)\n\u001b[0;32m--> 624\u001b[0m facets\u001b[38;5;241m.\u001b[39mmap_dataframe(update_datalim, x\u001b[38;5;241m=\u001b[39mx, y\u001b[38;5;241m=\u001b[39my)\n\u001b[1;32m    626\u001b[0m \u001b[38;5;66;03m# Draw the regression plot on each facet\u001b[39;00m\n\u001b[1;32m    627\u001b[0m regplot_kws \u001b[38;5;241m=\u001b[39m \u001b[38;5;28mdict\u001b[39m(\n\u001b[1;32m    628\u001b[0m     x_estimator\u001b[38;5;241m=\u001b[39mx_estimator, x_bins\u001b[38;5;241m=\u001b[39mx_bins, x_ci\u001b[38;5;241m=\u001b[39mx_ci,\n\u001b[1;32m    629\u001b[0m     scatter\u001b[38;5;241m=\u001b[39mscatter, fit_reg\u001b[38;5;241m=\u001b[39mfit_reg, ci\u001b[38;5;241m=\u001b[39mci, n_boot\u001b[38;5;241m=\u001b[39mn_boot, units\u001b[38;5;241m=\u001b[39munits,\n\u001b[0;32m   (...)\u001b[0m\n\u001b[1;32m    633\u001b[0m     scatter_kws\u001b[38;5;241m=\u001b[39mscatter_kws, line_kws\u001b[38;5;241m=\u001b[39mline_kws,\n\u001b[1;32m    634\u001b[0m )\n",
      "File \u001b[0;32m~/anaconda3/lib/python3.11/site-packages/seaborn/axisgrid.py:819\u001b[0m, in \u001b[0;36mFacetGrid.map_dataframe\u001b[0;34m(self, func, *args, **kwargs)\u001b[0m\n\u001b[1;32m    816\u001b[0m     kwargs[\u001b[38;5;124m\"\u001b[39m\u001b[38;5;124mdata\u001b[39m\u001b[38;5;124m\"\u001b[39m] \u001b[38;5;241m=\u001b[39m data_ijk\n\u001b[1;32m    818\u001b[0m     \u001b[38;5;66;03m# Draw the plot\u001b[39;00m\n\u001b[0;32m--> 819\u001b[0m     \u001b[38;5;28mself\u001b[39m\u001b[38;5;241m.\u001b[39m_facet_plot(func, ax, args, kwargs)\n\u001b[1;32m    821\u001b[0m \u001b[38;5;66;03m# For axis labels, prefer to use positional args for backcompat\u001b[39;00m\n\u001b[1;32m    822\u001b[0m \u001b[38;5;66;03m# but also extract the x/y kwargs and use if no corresponding arg\u001b[39;00m\n\u001b[1;32m    823\u001b[0m axis_labels \u001b[38;5;241m=\u001b[39m [kwargs\u001b[38;5;241m.\u001b[39mget(\u001b[38;5;124m\"\u001b[39m\u001b[38;5;124mx\u001b[39m\u001b[38;5;124m\"\u001b[39m, \u001b[38;5;28;01mNone\u001b[39;00m), kwargs\u001b[38;5;241m.\u001b[39mget(\u001b[38;5;124m\"\u001b[39m\u001b[38;5;124my\u001b[39m\u001b[38;5;124m\"\u001b[39m, \u001b[38;5;28;01mNone\u001b[39;00m)]\n",
      "File \u001b[0;32m~/anaconda3/lib/python3.11/site-packages/seaborn/axisgrid.py:848\u001b[0m, in \u001b[0;36mFacetGrid._facet_plot\u001b[0;34m(self, func, ax, plot_args, plot_kwargs)\u001b[0m\n\u001b[1;32m    846\u001b[0m     plot_args \u001b[38;5;241m=\u001b[39m []\n\u001b[1;32m    847\u001b[0m     plot_kwargs[\u001b[38;5;124m\"\u001b[39m\u001b[38;5;124max\u001b[39m\u001b[38;5;124m\"\u001b[39m] \u001b[38;5;241m=\u001b[39m ax\n\u001b[0;32m--> 848\u001b[0m func(\u001b[38;5;241m*\u001b[39mplot_args, \u001b[38;5;241m*\u001b[39m\u001b[38;5;241m*\u001b[39mplot_kwargs)\n\u001b[1;32m    850\u001b[0m \u001b[38;5;66;03m# Sort out the supporting information\u001b[39;00m\n\u001b[1;32m    851\u001b[0m \u001b[38;5;28mself\u001b[39m\u001b[38;5;241m.\u001b[39m_update_legend_data(ax)\n",
      "File \u001b[0;32m~/anaconda3/lib/python3.11/site-packages/seaborn/regression.py:620\u001b[0m, in \u001b[0;36mlmplot.<locals>.update_datalim\u001b[0;34m(data, x, y, ax, **kws)\u001b[0m\n\u001b[1;32m    619\u001b[0m \u001b[38;5;28;01mdef\u001b[39;00m \u001b[38;5;21mupdate_datalim\u001b[39m(data, x, y, ax, \u001b[38;5;241m*\u001b[39m\u001b[38;5;241m*\u001b[39mkws):\n\u001b[0;32m--> 620\u001b[0m     xys \u001b[38;5;241m=\u001b[39m data[[x, y]]\u001b[38;5;241m.\u001b[39mto_numpy()\u001b[38;5;241m.\u001b[39mastype(\u001b[38;5;28mfloat\u001b[39m)\n\u001b[1;32m    621\u001b[0m     ax\u001b[38;5;241m.\u001b[39mupdate_datalim(xys, updatey\u001b[38;5;241m=\u001b[39m\u001b[38;5;28;01mFalse\u001b[39;00m)\n\u001b[1;32m    622\u001b[0m     ax\u001b[38;5;241m.\u001b[39mautoscale_view(scaley\u001b[38;5;241m=\u001b[39m\u001b[38;5;28;01mFalse\u001b[39;00m)\n",
      "\u001b[0;31mValueError\u001b[0m: could not convert string to float: 'Sankofa'"
     ]
    },
    {
     "data": {
      "image/png": "[encoded data removed]",
      "text/plain": [
       "<Figure size 500x500 with 1 Axes>"
      ]
     },
     "metadata": {},
     "output_type": "display_data"
    }
   ],
   "source": [
    "# Create a scatterplot for the \"duration\" and \"title\" columns in seaborn\n",
    "\n",
    "sns.lmplot(x = 'duration', y = 'title', data = df)"
   ]
  },
  {
   "cell_type": "code",
   "execution_count": null,
   "id": "8369358a",
   "metadata": {},
   "outputs": [],
   "source": []
  },
  {
   "cell_type": "code",
   "execution_count": null,
   "id": "1adea8d2",
   "metadata": {},
   "outputs": [],
   "source": []
  },
  {
   "cell_type": "code",
   "execution_count": null,
   "id": "0e2f3558",
   "metadata": {},
   "outputs": [],
   "source": []
  },
  {
   "cell_type": "code",
   "execution_count": null,
   "id": "63318334",
   "metadata": {},
   "outputs": [],
   "source": []
  },
  {
   "cell_type": "code",
   "execution_count": null,
   "id": "5c370c3b",
   "metadata": {},
   "outputs": [],
   "source": []
  },
  {
   "cell_type": "code",
   "execution_count": null,
   "id": "a9d75ead",
   "metadata": {},
   "outputs": [],
   "source": []
  },
  {
   "cell_type": "code",
   "execution_count": null,
   "id": "b62d2fa3",
   "metadata": {},
   "outputs": [],
   "source": []
  },
  {
   "cell_type": "code",
   "execution_count": null,
   "id": "907a391d",
   "metadata": {},
   "outputs": [],
   "source": []
  },
  {
   "cell_type": "code",
   "execution_count": null,
   "id": "369878ed",
   "metadata": {},
   "outputs": [],
   "source": []
  }
 ],
 "metadata": {
  "kernelspec": {
   "display_name": "Python 3 (ipykernel)",
   "language": "python",
   "name": "python3"
  },
  "language_info": {
   "codemirror_mode": {
    "name": "ipython",
    "version": 3
   },
   "file_extension": ".py",
   "mimetype": "text/x-python",
   "name": "python",
   "nbconvert_exporter": "python",
   "pygments_lexer": "ipython3",
   "version": "3.11.5"
  }
 },
 "nbformat": 4,
 "nbformat_minor": 5
}
